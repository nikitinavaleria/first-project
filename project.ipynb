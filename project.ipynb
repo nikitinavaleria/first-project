{
 "cells": [
  {
   "cell_type": "markdown",
   "metadata": {},
   "source": [
    "# Рекомендация тарифов\n",
    "\n",
    "новое описание\n",
    "\n",
    "**Цель:** выявление особенностей поведения клиентов мобильной сети \"Мегалайн\"\n",
    "\n",
    "**Задача:** построить систему, помогающую проанализировать поведение клиентов и предложить пользователям новый тариф: «Смарт» или «Ультра». Необходимо построить модель для задачи классификации, которая выберет подходящий тариф.\n",
    "\n",
    "В распоряжении данные о поведении клиентов, которые уже перешли на эти тарифы. \n",
    "\n",
    "\n",
    "## Описание данных\n",
    "\n",
    "Данные не требуют предобработки, они были очищены и обработаны ранее. Но основные параметры будут проверены. \n",
    "\n",
    "Каждый объект в наборе данных — это информация о поведении одного пользователя за месяц. Известно:\n",
    "\n",
    "сalls — количество звонков,\n",
    "\n",
    "minutes — суммарная длительность звонков в минутах,\n",
    "\n",
    "messages — количество sms-сообщений,\n",
    "\n",
    "mb_used — израсходованный интернет-трафик в Мб,\n",
    "\n",
    "is_ultra — каким тарифом пользовался в течение месяца («Ультра» — 1, «Смарт» — 0).\n",
    "\n",
    "\n",
    "\n",
    "## Знакомство с данными"
   ]
  },
  {
   "cell_type": "code",
   "execution_count": null,
   "metadata": {},
   "outputs": [],
   "source": []
  },
  {
   "cell_type": "code",
   "execution_count": null,
   "metadata": {},
   "outputs": [],
   "source": []
  },
  {
   "cell_type": "code",
   "execution_count": null,
   "metadata": {},
   "outputs": [],
   "source": []
  },
  {
   "cell_type": "code",
   "execution_count": null,
   "metadata": {},
   "outputs": [],
   "source": []
  },
  {
   "cell_type": "code",
   "execution_count": null,
   "metadata": {},
   "outputs": [],
   "source": []
  },
  {
   "cell_type": "code",
   "execution_count": 1,
   "metadata": {},
   "outputs": [],
   "source": [
    "#импортируем нужные библиотеки для работы\n",
    "import pandas as pd\n",
    "import numpy\n",
    "import matplotlib.pyplot as plt\n",
    "import seaborn as sns\n",
    "from tqdm import tqdm\n",
    "\n",
    "\n",
    "import warnings\n",
    "\n",
    "import sklearn.metrics\n",
    "from sklearn.model_selection import train_test_split\n",
    "from sklearn.tree import DecisionTreeClassifier\n",
    "from sklearn.metrics import accuracy_score\n",
    "from sklearn.ensemble import RandomForestClassifier\n",
    "from sklearn.linear_model import LogisticRegression\n",
    "from sklearn import tree\n",
    "from sklearn.metrics import classification_report\n"
   ]
  },
  {
   "cell_type": "code",
   "execution_count": 2,
   "metadata": {},
   "outputs": [
    {
     "data": {
      "text/html": [
       "<div>\n",
       "<style scoped>\n",
       "    .dataframe tbody tr th:only-of-type {\n",
       "        vertical-align: middle;\n",
       "    }\n",
       "\n",
       "    .dataframe tbody tr th {\n",
       "        vertical-align: top;\n",
       "    }\n",
       "\n",
       "    .dataframe thead th {\n",
       "        text-align: right;\n",
       "    }\n",
       "</style>\n",
       "<table border=\"1\" class=\"dataframe\">\n",
       "  <thead>\n",
       "    <tr style=\"text-align: right;\">\n",
       "      <th></th>\n",
       "      <th>calls</th>\n",
       "      <th>minutes</th>\n",
       "      <th>messages</th>\n",
       "      <th>mb_used</th>\n",
       "      <th>is_ultra</th>\n",
       "    </tr>\n",
       "  </thead>\n",
       "  <tbody>\n",
       "    <tr>\n",
       "      <th>0</th>\n",
       "      <td>40.0</td>\n",
       "      <td>311.90</td>\n",
       "      <td>83.0</td>\n",
       "      <td>19915.42</td>\n",
       "      <td>0</td>\n",
       "    </tr>\n",
       "    <tr>\n",
       "      <th>1</th>\n",
       "      <td>85.0</td>\n",
       "      <td>516.75</td>\n",
       "      <td>56.0</td>\n",
       "      <td>22696.96</td>\n",
       "      <td>0</td>\n",
       "    </tr>\n",
       "    <tr>\n",
       "      <th>2</th>\n",
       "      <td>77.0</td>\n",
       "      <td>467.66</td>\n",
       "      <td>86.0</td>\n",
       "      <td>21060.45</td>\n",
       "      <td>0</td>\n",
       "    </tr>\n",
       "    <tr>\n",
       "      <th>3</th>\n",
       "      <td>106.0</td>\n",
       "      <td>745.53</td>\n",
       "      <td>81.0</td>\n",
       "      <td>8437.39</td>\n",
       "      <td>1</td>\n",
       "    </tr>\n",
       "    <tr>\n",
       "      <th>4</th>\n",
       "      <td>66.0</td>\n",
       "      <td>418.74</td>\n",
       "      <td>1.0</td>\n",
       "      <td>14502.75</td>\n",
       "      <td>0</td>\n",
       "    </tr>\n",
       "    <tr>\n",
       "      <th>5</th>\n",
       "      <td>58.0</td>\n",
       "      <td>344.56</td>\n",
       "      <td>21.0</td>\n",
       "      <td>15823.37</td>\n",
       "      <td>0</td>\n",
       "    </tr>\n",
       "    <tr>\n",
       "      <th>6</th>\n",
       "      <td>57.0</td>\n",
       "      <td>431.64</td>\n",
       "      <td>20.0</td>\n",
       "      <td>3738.90</td>\n",
       "      <td>1</td>\n",
       "    </tr>\n",
       "    <tr>\n",
       "      <th>7</th>\n",
       "      <td>15.0</td>\n",
       "      <td>132.40</td>\n",
       "      <td>6.0</td>\n",
       "      <td>21911.60</td>\n",
       "      <td>0</td>\n",
       "    </tr>\n",
       "    <tr>\n",
       "      <th>8</th>\n",
       "      <td>7.0</td>\n",
       "      <td>43.39</td>\n",
       "      <td>3.0</td>\n",
       "      <td>2538.67</td>\n",
       "      <td>1</td>\n",
       "    </tr>\n",
       "    <tr>\n",
       "      <th>9</th>\n",
       "      <td>90.0</td>\n",
       "      <td>665.41</td>\n",
       "      <td>38.0</td>\n",
       "      <td>17358.61</td>\n",
       "      <td>0</td>\n",
       "    </tr>\n",
       "  </tbody>\n",
       "</table>\n",
       "</div>"
      ],
      "text/plain": [
       "   calls  minutes  messages   mb_used  is_ultra\n",
       "0   40.0   311.90      83.0  19915.42         0\n",
       "1   85.0   516.75      56.0  22696.96         0\n",
       "2   77.0   467.66      86.0  21060.45         0\n",
       "3  106.0   745.53      81.0   8437.39         1\n",
       "4   66.0   418.74       1.0  14502.75         0\n",
       "5   58.0   344.56      21.0  15823.37         0\n",
       "6   57.0   431.64      20.0   3738.90         1\n",
       "7   15.0   132.40       6.0  21911.60         0\n",
       "8    7.0    43.39       3.0   2538.67         1\n",
       "9   90.0   665.41      38.0  17358.61         0"
      ]
     },
     "execution_count": 2,
     "metadata": {},
     "output_type": "execute_result"
    }
   ],
   "source": [
    "#откроем файл\n",
    "data = pd.read_csv('C:/Users/Lerusik/Documents/datasets/users_behavior.csv', sep=',')\n",
    "data.head(10)"
   ]
  },
  {
   "cell_type": "code",
   "execution_count": 3,
   "metadata": {},
   "outputs": [
    {
     "name": "stdout",
     "output_type": "stream",
     "text": [
      "<class 'pandas.core.frame.DataFrame'>\n",
      "RangeIndex: 3214 entries, 0 to 3213\n",
      "Data columns (total 5 columns):\n",
      " #   Column    Non-Null Count  Dtype  \n",
      "---  ------    --------------  -----  \n",
      " 0   calls     3214 non-null   float64\n",
      " 1   minutes   3214 non-null   float64\n",
      " 2   messages  3214 non-null   float64\n",
      " 3   mb_used   3214 non-null   float64\n",
      " 4   is_ultra  3214 non-null   int64  \n",
      "dtypes: float64(4), int64(1)\n",
      "memory usage: 125.7 KB\n"
     ]
    }
   ],
   "source": [
    "#получим общую информацию о датасете\n",
    "data.info()"
   ]
  },
  {
   "cell_type": "code",
   "execution_count": 4,
   "metadata": {},
   "outputs": [
    {
     "data": {
      "image/png": "[encoded data removed]",
      "text/plain": [
       "<Figure size 1500x2000 with 6 Axes>"
      ]
     },
     "metadata": {},
     "output_type": "display_data"
    }
   ],
   "source": [
    "#получим гистограммы по всем столбцам\n",
    "data.hist(figsize=(15, 20))\n",
    "plt.show()"
   ]
  },
  {
   "cell_type": "code",
   "execution_count": 5,
   "metadata": {},
   "outputs": [
    {
     "data": {
      "text/plain": [
       "0"
      ]
     },
     "execution_count": 5,
     "metadata": {},
     "output_type": "execute_result"
    }
   ],
   "source": [
    "#проверим на явные дубликаты\n",
    "data.duplicated().sum()"
   ]
  },
  {
   "cell_type": "code",
   "execution_count": 6,
   "metadata": {
    "scrolled": true
   },
   "outputs": [
    {
     "name": "stdout",
     "output_type": "stream",
     "text": [
      "985\n",
      "2229\n"
     ]
    }
   ],
   "source": [
    "print(data[data['is_ultra'] == 1]['is_ultra'].count()) #посчитаем количество тарифов ультра\n",
    "print(data[data['is_ultra'] == 0]['is_ultra'].count()) #посчитаем количество остальных тарифов "
   ]
  },
  {
   "cell_type": "markdown",
   "metadata": {},
   "source": [
    "Видно, что тарифа ультра меньше в 2 с лишним раза. Тогда в дальнейшем следует оценивать точность определения конкретных тарифов, а не только общую точность."
   ]
  },
  {
   "cell_type": "code",
   "execution_count": 7,
   "metadata": {},
   "outputs": [
    {
     "data": {
      "image/png": "[encoded data removed]",
      "text/plain": [
       "<Figure size 640x480 with 2 Axes>"
      ]
     },
     "metadata": {},
     "output_type": "display_data"
    }
   ],
   "source": [
    "sns.heatmap(data.corr(), annot = True) #посмотрим корреляции Пирсона\n",
    "plt.show()"
   ]
  },
  {
   "cell_type": "markdown",
   "metadata": {},
   "source": [
    "<div class=\"alert alert-info\">\n",
    "Мультиколлинеарность возникает при наличии сильно коррелирующих признаков. Например, у нас это минуты и сообщения, при анализе можно один признак исключить. Кроме банального удаления коррелирующего признака еще применяют ПСА и убирают компоненты, которые дают наименьший вклад. Вроде еще есть способ удаления признаков на основе анализа VIF (variance inflation factor), я про него мало что знаю, но почитаю)) Основная возникающая проблема - нестабильность модели, на которую нельзя в итоге полагаться без обработки данных.\n",
    "    \n",
    "\n",
    "</div> \n",
    "\n"
   ]
  },
  {
   "cell_type": "markdown",
   "metadata": {},
   "source": [
    "<div class=\"alert alert-success\">\n",
    "<font size=\"5\"><b>Комментарий ревьюераV2</b></font>\n",
    "\n",
    "Успех:\n",
    "\n",
    "Немножко дополнил:   \n",
    "\n",
    "\n",
    "Первый момент: мультиколлиниарность проблема линейных моделей - могут переобучаться.... теоретически. Но в логистической, и в линейной регрессиях реализована регуляризация, которая решает проблему мультиколлиниарности признаков. \"Деревянные\" модели (RF, DT) устойчивы к мультиколлинеарности, а кластеризация тоже почти не зависит от линейных зависимостей. Получается, избавляться от мультиколлинеарности чтобы не переобучаться не обязательно )) \n",
    "    \n",
    "    \n",
    "Второй момент: интерпретируемость линейной модели (мы по коеффициентам судим как признаки влияют на таргет), тут  мультиколлинеарность надо убирать.\n",
    "\n",
    "    \n",
    "  \n",
    "    "
   ]
  },
  {
   "cell_type": "markdown",
   "metadata": {},
   "source": [
    "С данными всё норм, гистограммы правдоподобны, датасет чистый, разницу в количестве в классах увидели. Работаем дальше\n",
    "\n",
    "## Разделение выборок\n",
    "\n",
    "Разделим дату на тренировочную, валидационную и тестовую выборку"
   ]
  },
  {
   "cell_type": "code",
   "execution_count": 8,
   "metadata": {},
   "outputs": [],
   "source": [
    "data_train, data_test = train_test_split(data, test_size=0.25, random_state=12345, stratify=data['is_ultra'])\n",
    "\n",
    "features = data_train.drop(['is_ultra'],axis=1)\n",
    "target = data_train['is_ultra'] #целевой признак\n",
    "\n",
    "features_train, features_valid, target_train, target_valid = train_test_split(features, target, test_size=0.25, random_state=12345, stratify=target)\n",
    "\n",
    "features_test = data_test.drop(['is_ultra'],axis=1)\n",
    "target_test = data_test['is_ultra'] #целевой признак\n"
   ]
  },
  {
   "cell_type": "code",
   "execution_count": 9,
   "metadata": {},
   "outputs": [
    {
     "name": "stdout",
     "output_type": "stream",
     "text": [
      "739\n",
      "1671\n",
      "246\n",
      "558\n"
     ]
    }
   ],
   "source": [
    "print(data_train[data_train['is_ultra'] == 1]['is_ultra'].count()) #посчитаем количество тарифов ультра\n",
    "print(data_train[data_train['is_ultra'] == 0]['is_ultra'].count()) #посчитаем количество тарифов ультра\n",
    "print(data_test[data_test['is_ultra'] == 1]['is_ultra'].count()) #посчитаем количество остальных тарифов \n",
    "print(data_test[data_test['is_ultra'] == 0]['is_ultra'].count()) #посчитаем количество остальных тарифов \n",
    "\n"
   ]
  },
  {
   "cell_type": "markdown",
   "metadata": {},
   "source": [
    "## Классификация деревом решений с разными значениями гиперпараметра depth"
   ]
  },
  {
   "cell_type": "code",
   "execution_count": 10,
   "metadata": {},
   "outputs": [
    {
     "name": "stdout",
     "output_type": "stream",
     "text": [
      "Accuracy наилучшей модели на тренировочной выборке: 1.0 Максимальная глубина: 27\n"
     ]
    },
    {
     "data": {
      "image/png": "[encoded data removed]",
      "text/plain": [
       "<Figure size 640x480 with 1 Axes>"
      ]
     },
     "metadata": {},
     "output_type": "display_data"
    }
   ],
   "source": [
    "best_model = None\n",
    "best_result = 0\n",
    "best_depth = 0\n",
    "result_for_plot = []\n",
    "depth_for_plot = []\n",
    "\n",
    "for depth in range(1, 30):\n",
    "    model = DecisionTreeClassifier(random_state=12345, max_depth=depth)\n",
    "    model.fit(features_train, target_train)\n",
    "    result = model.score(features_train,target_train) # посчитайте качество модели на валидационной выборке\n",
    "    result_for_plot.append(result)\n",
    "    depth_for_plot.append(depth)\n",
    "    if result > best_result:\n",
    "        best_model = model # сохраняем наилучшую модель\n",
    "        best_result = result #  сохраняем наилучшее значение метрики accuracy на валидационных данных\n",
    "        best_depth = depth\n",
    "\n",
    "print(\"Accuracy наилучшей модели на тренировочной выборке:\", best_result,  \"Максимальная глубина:\", best_depth)\n",
    "plt.plot(depth_for_plot, result_for_plot)\n",
    "plt.title('график зависимости точности модели на тренировочной выборке от глубины')\n",
    "plt.show()"
   ]
  },
  {
   "cell_type": "code",
   "execution_count": 11,
   "metadata": {
    "scrolled": false
   },
   "outputs": [
    {
     "name": "stdout",
     "output_type": "stream",
     "text": [
      "Accuracy наилучшей модели на валидационной выборке: 0.8109452736318408 Максимальная глубина: 8\n"
     ]
    },
    {
     "data": {
      "image/png": "[encoded data removed]",
      "text/plain": [
       "<Figure size 640x480 with 1 Axes>"
      ]
     },
     "metadata": {},
     "output_type": "display_data"
    }
   ],
   "source": [
    "best_model = None\n",
    "best_result = 0\n",
    "best_depth = 0\n",
    "result_for_plot = []\n",
    "depth_for_plot = []\n",
    "\n",
    "for depth in range(1, 30):\n",
    "    model = DecisionTreeClassifier(random_state=12345, max_depth=depth)\n",
    "    model.fit(features_train, target_train)\n",
    "    result = model.score(features_valid,target_valid) # посчитайте качество модели на валидационной выборке\n",
    "    result_for_plot.append(result)\n",
    "    depth_for_plot.append(depth)\n",
    "    if result > best_result:\n",
    "        best_model = model # сохраняем наилучшую модель\n",
    "        best_result = result #  сохраняем наилучшее значение метрики accuracy на валидационных данных\n",
    "        best_depth = depth\n",
    "\n",
    "print(\"Accuracy наилучшей модели на валидационной выборке:\", best_result,  \"Максимальная глубина:\", best_depth)\n",
    "plt.plot(depth_for_plot, result_for_plot)\n",
    "plt.title('график зависимости точности модели на валидационной выборке от глубины')\n",
    "plt.show()"
   ]
  },
  {
   "cell_type": "code",
   "execution_count": 12,
   "metadata": {},
   "outputs": [
    {
     "name": "stdout",
     "output_type": "stream",
     "text": [
      "Accuracy наилучшей модели на тренировочной и валидационной выборках: 1.0 Максимальная глубина: 23\n"
     ]
    },
    {
     "data": {
      "image/png": "[encoded data removed]",
      "text/plain": [
       "<Figure size 640x480 with 1 Axes>"
      ]
     },
     "metadata": {},
     "output_type": "display_data"
    }
   ],
   "source": [
    "best_model = None\n",
    "best_result = 0\n",
    "best_depth = 0\n",
    "result_for_plot = []\n",
    "depth_for_plot = []\n",
    "\n",
    "for depth in range(1, 30):\n",
    "    model = DecisionTreeClassifier(random_state=12345, max_depth=depth)\n",
    "    model.fit(features, target)\n",
    "    result = model.score(features,target) # посчитайте качество модели на валидационной выборке\n",
    "    result_for_plot.append(result)\n",
    "    depth_for_plot.append(depth)\n",
    "    if result > best_result:\n",
    "        best_model = model # сохраняем наилучшую модель\n",
    "        best_result = result #  сохраняем наилучшее значение метрики accuracy на валидационных данных\n",
    "        best_depth = depth\n",
    "\n",
    "print(\"Accuracy наилучшей модели на тренировочной и валидационной выборках:\", best_result,  \"Максимальная глубина:\", best_depth)\n",
    "plt.plot(depth_for_plot, result_for_plot)\n",
    "plt.title('график зависимости точности модели на тренировочной и валидационной выборках от глубины')\n",
    "plt.show()"
   ]
  },
  {
   "cell_type": "code",
   "execution_count": null,
   "metadata": {},
   "outputs": [],
   "source": [
    "\n",
    "import matplotlib.pyplot as plt\n",
    "fig = plt.figure(figsize=(35,20))\n",
    "_ = tree.plot_tree(best_model, \n",
    "               feature_names=features.columns.values, \n",
    "               class_names=['Smart','Ultra'],\n",
    "               filled=True,\n",
    "               fontsize = 15,\n",
    "               max_depth = 3     # Это чтобы прорисовывало 3 уровня, не глубже\n",
    "                  )"
   ]
  },
  {
   "cell_type": "markdown",
   "metadata": {},
   "source": [
    "## Классификация методом случайного леса с разными значениями гиперпараметров"
   ]
  },
  {
   "cell_type": "code",
   "execution_count": 15,
   "metadata": {},
   "outputs": [
    {
     "name": "stdout",
     "output_type": "stream",
     "text": [
      "Accuracy наилучшей модели на тренировочной выборке: 0.8970669618151632 Количество деревьев: 50 Глубина: 10\n"
     ]
    }
   ],
   "source": [
    "best_model_2 = None\n",
    "best_result = 0\n",
    "best_est = 0\n",
    "best_depth = 0\n",
    "for est in range(1, 51, 1):\n",
    "    for depth in range (1, 11):\n",
    "        model = RandomForestClassifier(random_state=12345, n_estimators=est, max_depth=depth) # обучаем модель с заданным количеством деревьев\n",
    "        model.fit(features_train, target_train) # обучаем модель на тренировочной выборке\n",
    "        result = model.score(features_train,target_train) # посчитайте качество модели на тренировочной выборке\n",
    "        if result > best_result:\n",
    "            best_model_2 = model # сохраняем наилучшую модель\n",
    "            best_result = result #  сохраняем наилучшее значение метрики accuracy на трениовочных данных\n",
    "            best_est = est\n",
    "            best_depth = depth\n",
    "\n",
    "print(\"Accuracy наилучшей модели на тренировочной выборке:\", best_result, \"Количество деревьев:\", best_est, \"Глубина:\", best_depth)"
   ]
  },
  {
   "cell_type": "code",
   "execution_count": 16,
   "metadata": {},
   "outputs": [
    {
     "name": "stdout",
     "output_type": "stream",
     "text": [
      "Accuracy наилучшей модели на валидационной выборке: 0.8076285240464345 Количество деревьев: 11 Глубина: 10\n"
     ]
    }
   ],
   "source": [
    "#%%time \n",
    "\n",
    "#for n_estimators in tqdm(range(3,58)):\n",
    "best_model_2 = None\n",
    "best_result = 0\n",
    "best_est = 0\n",
    "best_depth = 0\n",
    "for est in range(1, 51, 1):\n",
    "    for depth in range (1, 11):\n",
    "        model = RandomForestClassifier(random_state=12345, n_estimators=est, max_depth=depth) # обучаем модель с заданным количеством деревьев\n",
    "        model.fit(features_train, target_train) # обучаем модель на тренировочной выборке\n",
    "        result = model.score(features_valid,target_valid) # посчитайте качество модели на валидационной выборке\n",
    "        if result > best_result:\n",
    "            best_model_2 = model # сохраняем наилучшую модель\n",
    "            best_result = result #  сохраняем наилучшее значение метрики accuracy на валидационных данных\n",
    "            best_est = est\n",
    "            best_depth = depth\n",
    "\n",
    "print(\"Accuracy наилучшей модели на валидационной выборке:\", best_result, \"Количество деревьев:\", best_est, \"Глубина:\", best_depth)"
   ]
  },
  {
   "cell_type": "code",
   "execution_count": 17,
   "metadata": {},
   "outputs": [
    {
     "name": "stdout",
     "output_type": "stream",
     "text": [
      "Accuracy наилучшей модели на тренировочной и валидационной выборках: 0.8946058091286307 Количество деревьев: 50 Глубина: 10\n"
     ]
    }
   ],
   "source": [
    "best_model_2 = None\n",
    "best_result = 0\n",
    "best_est = 0\n",
    "best_depth = 0\n",
    "for est in range(1, 51, 1):\n",
    "    for depth in range (1, 11):\n",
    "        model = RandomForestClassifier(random_state=12345, n_estimators=est, max_depth=depth) # обучаем модель с заданным количеством деревьев\n",
    "        model.fit(features, target) # обучаем модель на тренировочной выборке\n",
    "        result = model.score(features,target) # посчитайте качество модели на тренировочной выборке\n",
    "        if result > best_result:\n",
    "            best_model_2 = model # сохраняем наилучшую модель\n",
    "            best_result = result #  сохраняем наилучшее значение метрики accuracy на трениовочных данных\n",
    "            best_est = est\n",
    "            best_depth = depth\n",
    "\n",
    "print(\"Accuracy наилучшей модели на тренировочной и валидационной выборках:\", best_result, \"Количество деревьев:\", best_est, \"Глубина:\", best_depth)"
   ]
  },
  {
   "cell_type": "markdown",
   "metadata": {},
   "source": [
    "## Логистическая регрессия"
   ]
  },
  {
   "cell_type": "code",
   "execution_count": 18,
   "metadata": {},
   "outputs": [
    {
     "name": "stdout",
     "output_type": "stream",
     "text": [
      "Accuracy модели на тренировочной выборке: 0.746541228555617\n"
     ]
    }
   ],
   "source": [
    "model = LogisticRegression(random_state=12345, solver='lbfgs', max_iter=100)\n",
    "\n",
    "model.fit(features_train, target_train)\n",
    "\n",
    "result = model.score(features_train,target_train)\n",
    "\n",
    "print(\"Accuracy модели на тренировочной выборке:\", result)"
   ]
  },
  {
   "cell_type": "code",
   "execution_count": 19,
   "metadata": {},
   "outputs": [
    {
     "name": "stdout",
     "output_type": "stream",
     "text": [
      "Accuracy модели на валидационной выборке: 0.7495854063018242\n"
     ]
    }
   ],
   "source": [
    "model = LogisticRegression(random_state=12345, solver='lbfgs', max_iter=100)\n",
    "\n",
    "model.fit(features_train, target_train)\n",
    "\n",
    "result = model.score(features_valid,target_valid)\n",
    "\n",
    "print(\"Accuracy модели на валидационной выборке:\", result)"
   ]
  },
  {
   "cell_type": "code",
   "execution_count": 20,
   "metadata": {},
   "outputs": [
    {
     "name": "stdout",
     "output_type": "stream",
     "text": [
      "Accuracy модели на тренировочной и валидационной выборках: 0.7481327800829876\n"
     ]
    }
   ],
   "source": [
    "model = LogisticRegression(random_state=12345, solver='lbfgs', max_iter=100)\n",
    "\n",
    "model.fit(features, target)\n",
    "\n",
    "result = model.score(features,target)\n",
    "\n",
    "print(\"Accuracy модели на тренировочной и валидационной выборках:\", result)"
   ]
  },
  {
   "cell_type": "markdown",
   "metadata": {},
   "source": [
    "## Проверка модели на тестовой выборке\n",
    "\n",
    "Будем использовать классификацию методом случайного леса с 50 деревьями и глубиной 10, \n",
    "\n",
    "Accuracy наилучшей модели на тренировочной и валидационной выборках: 0.8946058091286307 Количество деревьев: 50 Глубина: 10"
   ]
  },
  {
   "cell_type": "code",
   "execution_count": 21,
   "metadata": {},
   "outputs": [
    {
     "name": "stdout",
     "output_type": "stream",
     "text": [
      "Ошибок: 165\n",
      "accuracy: 0.7947761194029851\n",
      "[[120 126]\n",
      " [ 39 519]]\n"
     ]
    }
   ],
   "source": [
    "target_test = target_test.tolist()\n",
    "\n",
    "model = RandomForestClassifier(random_state=12345, n_estimators=11, max_depth=10) #20 9\n",
    "model.fit(features_train, target_train)\n",
    "test_predictions = model.predict(features_test)\n",
    "\n",
    "\n",
    "\n",
    "def error_count(answers, predictions):\n",
    "    errors = 0\n",
    "    for i in range(len(answers)):\n",
    "        if predictions[i] != answers[i]:\n",
    "            errors += 1\n",
    "    return errors\n",
    "\n",
    "print(\"Ошибок:\", error_count(target_test, test_predictions))\n",
    "\n",
    "\n",
    "accuracy = accuracy_score(target_test, test_predictions)\n",
    "print('accuracy:',accuracy)\n",
    "\n",
    "#найдем матрицу \n",
    "r = sklearn.metrics.confusion_matrix(target_test, test_predictions)\n",
    "r = numpy.flip(r) #перевернём матрицу\n",
    "print(r)\n",
    "\n",
    "\n"
   ]
  },
  {
   "cell_type": "markdown",
   "metadata": {},
   "source": [
    "True Positive = 120\n",
    "True Negative = 519\n",
    "False Negative = 126\n",
    "False Positive = 39\n",
    "\n",
    "Стоит учесть, что метрика accuracy может быть обманчивой. Один из таких случаев — это несбалансированные данные.\n",
    "\n",
    "\n",
    "Precision представляет собой отношение числа семплов, верно классифицированных как Positive, к общему числу выборок с меткой Positive (распознанных правильно и неправильно). Precision измеряет точность модели при определении класса Positive.\n",
    "\n",
    "Recall рассчитывается как отношение числа Positive выборок, корректно классифицированных как Positive, к общему количеству Positive семплов. Recall измеряет способность модели обнаруживать выборки, относящиеся к классу Positive. Чем выше recall, тем больше Positive семплов было найдено.\n",
    "\n",
    "Теперь то же самое, но модель обучим на валидационной и тренировочной выборках"
   ]
  },
  {
   "cell_type": "code",
   "execution_count": 22,
   "metadata": {},
   "outputs": [
    {
     "name": "stdout",
     "output_type": "stream",
     "text": [
      "Ошибок: 153\n",
      "accuracy: 0.8097014925373134\n",
      "[[130 116]\n",
      " [ 37 521]]\n"
     ]
    }
   ],
   "source": [
    "\n",
    "\n",
    "model = RandomForestClassifier(random_state=12345, n_estimators=11, max_depth=10) \n",
    "model.fit(features, target)\n",
    "test_predictions = model.predict(features_test)\n",
    "\n",
    "\n",
    "\n",
    "def error_count(answers, predictions):\n",
    "    errors = 0\n",
    "    for i in range(len(answers)):\n",
    "        if predictions[i] != answers[i]:\n",
    "            errors += 1\n",
    "    return errors\n",
    "\n",
    "print(\"Ошибок:\", error_count(target_test, test_predictions))\n",
    "\n",
    "\n",
    "accuracy = accuracy_score(target_test, test_predictions)\n",
    "print('accuracy:',accuracy)\n",
    "\n",
    "#найдем матрицу \n",
    "r = sklearn.metrics.confusion_matrix(target_test, test_predictions)\n",
    "r = numpy.flip(r) #перевернём матрицу\n",
    "print(r)"
   ]
  },
  {
   "cell_type": "code",
   "execution_count": 23,
   "metadata": {},
   "outputs": [
    {
     "name": "stdout",
     "output_type": "stream",
     "text": [
      "              precision    recall  f1-score   support\n",
      "\n",
      "       Smart       0.82      0.93      0.87       558\n",
      "       Ultra       0.78      0.53      0.63       246\n",
      "\n",
      "    accuracy                           0.81       804\n",
      "   macro avg       0.80      0.73      0.75       804\n",
      "weighted avg       0.81      0.81      0.80       804\n",
      "\n"
     ]
    }
   ],
   "source": [
    "report = classification_report(target_test, test_predictions, target_names=['Smart', 'Ultra'])\n",
    "print(report)"
   ]
  },
  {
   "cell_type": "code",
   "execution_count": 24,
   "metadata": {},
   "outputs": [
    {
     "name": "stdout",
     "output_type": "stream",
     "text": [
      "precision Ultra: 0.7784431137724551\n",
      "precision Smart: 0.8178963893249608\n",
      "recall Ultra: 0.5284552845528455\n",
      "recall Smart: 0.9336917562724014\n"
     ]
    }
   ],
   "source": [
    "precision = sklearn.metrics.precision_score(target_test, test_predictions, pos_label=1)\n",
    "print('precision Ultra:',precision)\n",
    "\n",
    "precision = sklearn.metrics.precision_score(target_test, test_predictions, pos_label=0)\n",
    "print('precision Smart:',precision)\n",
    "\n",
    "recall = sklearn.metrics.recall_score(target_test, test_predictions, pos_label=1)\n",
    "print('recall Ultra:',recall)\n",
    "\n",
    "recall = sklearn.metrics.recall_score(target_test, test_predictions, pos_label=0)\n",
    "print('recall Smart:',recall)"
   ]
  },
  {
   "cell_type": "markdown",
   "metadata": {},
   "source": [
    "## Выводы\n",
    "\n",
    "В данной работе удалось найти удачную и наиболее точную модель для анализа тарифов сети Мегалайн. Таким методом оказался случайный лес с количеством деревьев 11 и глубиной 10. Проверка на тестовой выборке показала значение точности 0.82, когда на тренировочной + валидационной выборке значение было 0.89. Надо сказать, что данные неравномерны. Данных по тарифу Ультра меньше, поэтому по другим метрикам можно оценить, что модель хуже определяет этот тариф. Метрика F1  для Ультра всего 0.64, когда для Смарта она 0.87."
   ]
  },
  {
   "cell_type": "code",
   "execution_count": null,
   "metadata": {},
   "outputs": [],
   "source": []
  }
 ],
 "metadata": {
  "ExecuteTimeLog": [
   {
    "duration": 1513,
    "start_time": "2022-12-26T18:16:33.622Z"
   },
   {
    "duration": 151,
    "start_time": "2022-12-26T18:16:43.577Z"
   },
   {
    "duration": 8,
    "start_time": "2022-12-26T18:16:56.194Z"
   },
   {
    "duration": 129,
    "start_time": "2022-12-26T18:20:02.681Z"
   },
   {
    "duration": 12,
    "start_time": "2022-12-26T18:20:05.682Z"
   },
   {
    "duration": 639,
    "start_time": "2022-12-26T18:20:19.517Z"
   },
   {
    "duration": 6,
    "start_time": "2022-12-26T18:20:29.408Z"
   },
   {
    "duration": 9,
    "start_time": "2022-12-26T18:21:08.673Z"
   },
   {
    "duration": 63,
    "start_time": "2022-12-26T18:21:33.666Z"
   },
   {
    "duration": 30017,
    "start_time": "2022-12-26T18:22:00.224Z"
   },
   {
    "duration": 169,
    "start_time": "2022-12-26T18:22:30.243Z"
   },
   {
    "duration": 99,
    "start_time": "2022-12-26T18:24:49.922Z"
   },
   {
    "duration": 12,
    "start_time": "2022-12-26T18:27:47.114Z"
   },
   {
    "duration": 3,
    "start_time": "2022-12-26T18:39:30.209Z"
   },
   {
    "duration": 35,
    "start_time": "2022-12-26T18:39:30.747Z"
   },
   {
    "duration": 10,
    "start_time": "2022-12-26T18:39:30.997Z"
   },
   {
    "duration": 562,
    "start_time": "2022-12-26T18:39:31.212Z"
   },
   {
    "duration": 5,
    "start_time": "2022-12-26T18:39:31.776Z"
   },
   {
    "duration": 11,
    "start_time": "2022-12-26T18:39:32.057Z"
   },
   {
    "duration": 61,
    "start_time": "2022-12-26T18:39:32.866Z"
   },
   {
    "duration": 2056,
    "start_time": "2022-12-27T06:25:41.574Z"
   },
   {
    "duration": 119,
    "start_time": "2022-12-27T06:25:43.632Z"
   },
   {
    "duration": 10,
    "start_time": "2022-12-27T06:25:43.752Z"
   },
   {
    "duration": 586,
    "start_time": "2022-12-27T06:25:43.764Z"
   },
   {
    "duration": 6,
    "start_time": "2022-12-27T06:25:44.351Z"
   },
   {
    "duration": 24,
    "start_time": "2022-12-27T06:25:44.358Z"
   },
   {
    "duration": 93,
    "start_time": "2022-12-27T06:25:44.384Z"
   },
   {
    "duration": 29247,
    "start_time": "2022-12-27T06:25:44.479Z"
   },
   {
    "duration": 199,
    "start_time": "2022-12-27T06:26:13.728Z"
   },
   {
    "duration": 254,
    "start_time": "2022-12-27T06:26:13.930Z"
   },
   {
    "duration": 11,
    "start_time": "2022-12-27T06:26:14.186Z"
   },
   {
    "duration": 1713,
    "start_time": "2022-12-28T15:27:50.590Z"
   },
   {
    "duration": 92,
    "start_time": "2022-12-28T15:27:52.306Z"
   },
   {
    "duration": 17,
    "start_time": "2022-12-28T15:27:52.401Z"
   },
   {
    "duration": 721,
    "start_time": "2022-12-28T15:27:52.420Z"
   },
   {
    "duration": 8,
    "start_time": "2022-12-28T15:27:53.144Z"
   },
   {
    "duration": 11,
    "start_time": "2022-12-28T15:27:53.154Z"
   },
   {
    "duration": 113,
    "start_time": "2022-12-28T15:27:53.167Z"
   },
   {
    "duration": 31941,
    "start_time": "2022-12-28T15:27:53.282Z"
   },
   {
    "duration": 113,
    "start_time": "2022-12-28T15:28:25.230Z"
   },
   {
    "duration": 157,
    "start_time": "2022-12-28T15:28:25.416Z"
   },
   {
    "duration": 119,
    "start_time": "2022-12-28T15:28:25.574Z"
   },
   {
    "duration": 0,
    "start_time": "2022-12-28T15:28:25.695Z"
   },
   {
    "duration": 4,
    "start_time": "2022-12-28T15:33:55.273Z"
   },
   {
    "duration": 50,
    "start_time": "2022-12-28T15:33:55.279Z"
   },
   {
    "duration": 11,
    "start_time": "2022-12-28T15:33:55.331Z"
   },
   {
    "duration": 613,
    "start_time": "2022-12-28T15:33:55.343Z"
   },
   {
    "duration": 6,
    "start_time": "2022-12-28T15:33:55.959Z"
   },
   {
    "duration": 21,
    "start_time": "2022-12-28T15:33:55.967Z"
   },
   {
    "duration": 82,
    "start_time": "2022-12-28T15:33:55.989Z"
   },
   {
    "duration": 30932,
    "start_time": "2022-12-28T15:33:56.073Z"
   },
   {
    "duration": 120,
    "start_time": "2022-12-28T15:34:27.007Z"
   },
   {
    "duration": 223,
    "start_time": "2022-12-28T15:34:27.131Z"
   },
   {
    "duration": 11,
    "start_time": "2022-12-28T15:34:27.356Z"
   },
   {
    "duration": 19,
    "start_time": "2022-12-28T15:34:27.369Z"
   },
   {
    "duration": 2108,
    "start_time": "2023-01-07T12:27:48.300Z"
   },
   {
    "duration": 181,
    "start_time": "2023-01-07T12:27:50.411Z"
   },
   {
    "duration": 20,
    "start_time": "2023-01-07T12:27:50.999Z"
   },
   {
    "duration": 817,
    "start_time": "2023-01-07T12:27:51.858Z"
   },
   {
    "duration": 9,
    "start_time": "2023-01-07T12:27:54.002Z"
   },
   {
    "duration": 15,
    "start_time": "2023-01-07T12:27:55.469Z"
   },
   {
    "duration": 14,
    "start_time": "2023-01-07T12:28:13.769Z"
   },
   {
    "duration": 181,
    "start_time": "2023-01-07T12:35:31.239Z"
   },
   {
    "duration": 480,
    "start_time": "2023-01-07T12:37:08.693Z"
   },
   {
    "duration": 156,
    "start_time": "2023-01-07T12:51:58.296Z"
   },
   {
    "duration": 10,
    "start_time": "2023-01-07T12:52:02.087Z"
   },
   {
    "duration": 7,
    "start_time": "2023-01-07T12:52:02.449Z"
   },
   {
    "duration": 4,
    "start_time": "2023-01-07T12:52:23.876Z"
   },
   {
    "duration": 5,
    "start_time": "2023-01-07T12:53:06.462Z"
   },
   {
    "duration": 6,
    "start_time": "2023-01-07T12:53:21.640Z"
   },
   {
    "duration": 70,
    "start_time": "2023-01-07T12:57:21.672Z"
   },
   {
    "duration": 5,
    "start_time": "2023-01-07T12:57:22.063Z"
   },
   {
    "duration": 19,
    "start_time": "2023-01-07T13:10:47.730Z"
   },
   {
    "duration": 3,
    "start_time": "2023-01-07T13:10:49.452Z"
   },
   {
    "duration": 15,
    "start_time": "2023-01-07T13:11:01.849Z"
   },
   {
    "duration": 10,
    "start_time": "2023-01-07T13:11:03.212Z"
   },
   {
    "duration": 7,
    "start_time": "2023-01-07T13:12:26.146Z"
   },
   {
    "duration": 12,
    "start_time": "2023-01-07T13:12:52.484Z"
   },
   {
    "duration": 17,
    "start_time": "2023-01-07T13:13:52.509Z"
   },
   {
    "duration": 12,
    "start_time": "2023-01-07T13:14:19.267Z"
   },
   {
    "duration": 65,
    "start_time": "2023-01-07T13:15:38.413Z"
   },
   {
    "duration": 14,
    "start_time": "2023-01-07T13:24:16.406Z"
   },
   {
    "duration": 11,
    "start_time": "2023-01-07T13:24:20.293Z"
   },
   {
    "duration": 31,
    "start_time": "2023-01-07T13:45:36.805Z"
   },
   {
    "duration": 175,
    "start_time": "2023-01-07T13:46:58.600Z"
   },
   {
    "duration": 175,
    "start_time": "2023-01-07T13:48:49.557Z"
   },
   {
    "duration": 176,
    "start_time": "2023-01-07T13:48:56.276Z"
   },
   {
    "duration": 170,
    "start_time": "2023-01-07T13:49:06.098Z"
   },
   {
    "duration": 272,
    "start_time": "2023-01-07T13:50:14.923Z"
   },
   {
    "duration": 319,
    "start_time": "2023-01-07T13:54:17.231Z"
   },
   {
    "duration": 287,
    "start_time": "2023-01-07T13:55:42.676Z"
   },
   {
    "duration": 283,
    "start_time": "2023-01-07T13:55:58.402Z"
   },
   {
    "duration": 324,
    "start_time": "2023-01-07T13:57:28.827Z"
   },
   {
    "duration": 515,
    "start_time": "2023-01-07T13:57:38.023Z"
   },
   {
    "duration": 507,
    "start_time": "2023-01-07T13:57:53.789Z"
   },
   {
    "duration": 4,
    "start_time": "2023-01-07T14:01:42.080Z"
   },
   {
    "duration": 40,
    "start_time": "2023-01-07T14:01:42.881Z"
   },
   {
    "duration": 10,
    "start_time": "2023-01-07T14:01:43.050Z"
   },
   {
    "duration": 720,
    "start_time": "2023-01-07T14:01:43.366Z"
   },
   {
    "duration": 7,
    "start_time": "2023-01-07T14:01:44.088Z"
   },
   {
    "duration": 37,
    "start_time": "2023-01-07T14:01:44.097Z"
   },
   {
    "duration": 369,
    "start_time": "2023-01-07T14:01:44.422Z"
   },
   {
    "duration": 14,
    "start_time": "2023-01-07T14:01:46.930Z"
   },
   {
    "duration": 11,
    "start_time": "2023-01-07T14:01:47.978Z"
   },
   {
    "duration": 573,
    "start_time": "2023-01-07T14:01:51.773Z"
   },
   {
    "duration": 533,
    "start_time": "2023-01-07T14:01:53.301Z"
   },
   {
    "duration": 24840,
    "start_time": "2023-01-07T14:01:54.438Z"
   },
   {
    "duration": 32527,
    "start_time": "2023-01-07T14:11:34.817Z"
   },
   {
    "duration": 4,
    "start_time": "2023-01-07T14:13:59.431Z"
   },
   {
    "duration": 31807,
    "start_time": "2023-01-07T14:14:04.671Z"
   },
   {
    "duration": 11,
    "start_time": "2023-01-07T14:16:06.382Z"
   },
   {
    "duration": 20,
    "start_time": "2023-01-07T14:16:13.828Z"
   },
   {
    "duration": 36,
    "start_time": "2023-01-07T14:16:14.336Z"
   },
   {
    "duration": 10,
    "start_time": "2023-01-07T14:16:14.691Z"
   },
   {
    "duration": 647,
    "start_time": "2023-01-07T14:16:14.840Z"
   },
   {
    "duration": 6,
    "start_time": "2023-01-07T14:16:15.489Z"
   },
   {
    "duration": 22,
    "start_time": "2023-01-07T14:16:15.497Z"
   },
   {
    "duration": 342,
    "start_time": "2023-01-07T14:16:15.734Z"
   },
   {
    "duration": 15,
    "start_time": "2023-01-07T14:16:16.206Z"
   },
   {
    "duration": 11,
    "start_time": "2023-01-07T14:16:16.366Z"
   },
   {
    "duration": 485,
    "start_time": "2023-01-07T14:16:17.928Z"
   },
   {
    "duration": 507,
    "start_time": "2023-01-07T14:16:18.537Z"
   },
   {
    "duration": 1790252,
    "start_time": "2023-01-07T14:16:20.142Z"
   },
   {
    "duration": 41,
    "start_time": "2023-01-07T17:42:07.550Z"
   },
   {
    "duration": 1423,
    "start_time": "2023-01-07T17:42:16.938Z"
   },
   {
    "duration": 89,
    "start_time": "2023-01-07T17:42:18.363Z"
   },
   {
    "duration": 13,
    "start_time": "2023-01-07T17:42:19.236Z"
   },
   {
    "duration": 661,
    "start_time": "2023-01-07T17:42:19.875Z"
   },
   {
    "duration": 5,
    "start_time": "2023-01-07T17:42:21.135Z"
   },
   {
    "duration": 8,
    "start_time": "2023-01-07T17:42:22.520Z"
   },
   {
    "duration": 369,
    "start_time": "2023-01-07T17:42:25.312Z"
   },
   {
    "duration": 22,
    "start_time": "2023-01-07T17:42:31.210Z"
   },
   {
    "duration": 5,
    "start_time": "2023-01-07T17:42:37.664Z"
   },
   {
    "duration": 71,
    "start_time": "2023-01-07T17:46:40.867Z"
   },
   {
    "duration": 5,
    "start_time": "2023-01-07T17:46:49.687Z"
   },
   {
    "duration": 35,
    "start_time": "2023-01-07T17:46:50.768Z"
   },
   {
    "duration": 22,
    "start_time": "2023-01-07T17:46:51.509Z"
   },
   {
    "duration": 533,
    "start_time": "2023-01-07T17:46:52.294Z"
   },
   {
    "duration": 5,
    "start_time": "2023-01-07T17:46:53.579Z"
   },
   {
    "duration": 5,
    "start_time": "2023-01-07T17:46:54.875Z"
   },
   {
    "duration": 351,
    "start_time": "2023-01-07T17:46:56.492Z"
   },
   {
    "duration": 10,
    "start_time": "2023-01-07T17:47:00.681Z"
   },
   {
    "duration": 8,
    "start_time": "2023-01-07T17:47:02.125Z"
   },
   {
    "duration": 429,
    "start_time": "2023-01-07T17:47:13.853Z"
   },
   {
    "duration": 426,
    "start_time": "2023-01-07T17:47:26.930Z"
   },
   {
    "duration": 502,
    "start_time": "2023-01-07T17:47:28.635Z"
   },
   {
    "duration": 117,
    "start_time": "2023-01-07T17:50:05.229Z"
   },
   {
    "duration": 74,
    "start_time": "2023-01-07T17:50:37.926Z"
   },
   {
    "duration": 29072,
    "start_time": "2023-01-07T17:51:12.032Z"
   },
   {
    "duration": 118,
    "start_time": "2023-01-07T17:51:49.066Z"
   },
   {
    "duration": 28272,
    "start_time": "2023-01-07T17:53:23.975Z"
   },
   {
    "duration": 34286,
    "start_time": "2023-01-07T17:53:59.074Z"
   },
   {
    "duration": 29,
    "start_time": "2023-01-07T17:56:15.826Z"
   },
   {
    "duration": 29,
    "start_time": "2023-01-07T17:56:17.449Z"
   },
   {
    "duration": 1299,
    "start_time": "2023-01-07T17:56:20.739Z"
   },
   {
    "duration": 73970,
    "start_time": "2023-01-07T17:57:56.011Z"
   },
   {
    "duration": 62401,
    "start_time": "2023-01-07T17:59:33.226Z"
   },
   {
    "duration": 60622,
    "start_time": "2023-01-07T18:00:35.629Z"
   },
   {
    "duration": 154332,
    "start_time": "2023-01-07T18:01:51.035Z"
   },
   {
    "duration": 149020,
    "start_time": "2023-01-07T18:04:25.369Z"
   },
   {
    "duration": 187843,
    "start_time": "2023-01-07T18:06:54.391Z"
   },
   {
    "duration": 93679,
    "start_time": "2023-01-07T18:10:52.968Z"
   },
   {
    "duration": 88912,
    "start_time": "2023-01-07T18:12:26.649Z"
   },
   {
    "duration": 112034,
    "start_time": "2023-01-07T18:13:55.563Z"
   },
   {
    "duration": 61560,
    "start_time": "2023-01-07T18:16:38.111Z"
   },
   {
    "duration": 59551,
    "start_time": "2023-01-07T18:17:39.673Z"
   },
   {
    "duration": 73886,
    "start_time": "2023-01-07T18:18:39.226Z"
   },
   {
    "duration": 44961,
    "start_time": "2023-01-07T18:22:17.298Z"
   },
   {
    "duration": 43600,
    "start_time": "2023-01-07T18:23:02.261Z"
   },
   {
    "duration": 30421,
    "start_time": "2023-01-07T18:24:39.690Z"
   },
   {
    "duration": 27728,
    "start_time": "2023-01-07T18:25:10.116Z"
   },
   {
    "duration": 33642,
    "start_time": "2023-01-07T18:25:37.845Z"
   },
   {
    "duration": 55,
    "start_time": "2023-01-07T18:31:49.771Z"
   },
   {
    "duration": 3,
    "start_time": "2023-01-07T18:32:26.581Z"
   },
   {
    "duration": 10,
    "start_time": "2023-01-07T18:32:43.872Z"
   },
   {
    "duration": 6,
    "start_time": "2023-01-07T18:33:11.417Z"
   },
   {
    "duration": 36,
    "start_time": "2023-01-07T18:33:12.972Z"
   },
   {
    "duration": 9,
    "start_time": "2023-01-07T18:33:13.553Z"
   },
   {
    "duration": 640,
    "start_time": "2023-01-07T18:33:14.052Z"
   },
   {
    "duration": 6,
    "start_time": "2023-01-07T18:33:15.243Z"
   },
   {
    "duration": 6,
    "start_time": "2023-01-07T18:33:16.358Z"
   },
   {
    "duration": 333,
    "start_time": "2023-01-07T18:33:17.702Z"
   },
   {
    "duration": 10,
    "start_time": "2023-01-07T18:33:21.498Z"
   },
   {
    "duration": 7,
    "start_time": "2023-01-07T18:33:24.032Z"
   },
   {
    "duration": 41,
    "start_time": "2023-01-07T18:33:38.537Z"
   },
   {
    "duration": 10,
    "start_time": "2023-01-07T18:33:44.144Z"
   },
   {
    "duration": 49,
    "start_time": "2023-01-07T18:33:58.061Z"
   },
   {
    "duration": 10,
    "start_time": "2023-01-07T18:34:21.541Z"
   },
   {
    "duration": 10,
    "start_time": "2023-01-07T18:35:44.714Z"
   },
   {
    "duration": 10,
    "start_time": "2023-01-07T18:35:50.945Z"
   },
   {
    "duration": 3,
    "start_time": "2023-01-07T18:36:00.826Z"
   },
   {
    "duration": 7,
    "start_time": "2023-01-07T18:36:10.231Z"
   },
   {
    "duration": 11,
    "start_time": "2023-01-07T18:36:19.272Z"
   },
   {
    "duration": 6,
    "start_time": "2023-01-07T18:42:40.223Z"
   },
   {
    "duration": 40,
    "start_time": "2023-01-07T18:42:46.182Z"
   },
   {
    "duration": 10,
    "start_time": "2023-01-07T18:42:49.823Z"
   },
   {
    "duration": 542,
    "start_time": "2023-01-07T18:42:50.355Z"
   },
   {
    "duration": 5,
    "start_time": "2023-01-07T18:42:52.151Z"
   },
   {
    "duration": 6,
    "start_time": "2023-01-07T18:42:53.543Z"
   },
   {
    "duration": 367,
    "start_time": "2023-01-07T18:43:11.388Z"
   },
   {
    "duration": 10,
    "start_time": "2023-01-07T18:43:23.282Z"
   },
   {
    "duration": 9,
    "start_time": "2023-01-07T18:43:26.430Z"
   },
   {
    "duration": 443,
    "start_time": "2023-01-07T18:43:54.198Z"
   },
   {
    "duration": 333,
    "start_time": "2023-01-07T18:44:11.912Z"
   },
   {
    "duration": 325,
    "start_time": "2023-01-07T18:44:27.351Z"
   },
   {
    "duration": 330,
    "start_time": "2023-01-07T18:44:33.298Z"
   },
   {
    "duration": 557,
    "start_time": "2023-01-07T18:44:36.680Z"
   },
   {
    "duration": 28817,
    "start_time": "2023-01-07T18:45:24.626Z"
   },
   {
    "duration": 28279,
    "start_time": "2023-01-07T18:45:53.444Z"
   },
   {
    "duration": 34549,
    "start_time": "2023-01-07T18:46:21.725Z"
   },
   {
    "duration": 44,
    "start_time": "2023-01-07T18:46:56.275Z"
   },
   {
    "duration": 29,
    "start_time": "2023-01-07T18:46:56.324Z"
   },
   {
    "duration": 872,
    "start_time": "2023-01-07T18:46:56.355Z"
   },
   {
    "duration": 34,
    "start_time": "2023-01-07T18:47:29.685Z"
   },
   {
    "duration": 29,
    "start_time": "2023-01-07T18:47:30.733Z"
   },
   {
    "duration": 840,
    "start_time": "2023-01-07T18:47:31.780Z"
   },
   {
    "duration": 41,
    "start_time": "2023-01-07T18:47:39.565Z"
   },
   {
    "duration": 174,
    "start_time": "2023-01-07T18:48:32.595Z"
   },
   {
    "duration": 4,
    "start_time": "2023-01-07T18:48:39.044Z"
   },
   {
    "duration": 12,
    "start_time": "2023-01-07T18:48:39.316Z"
   },
   {
    "duration": 11,
    "start_time": "2023-01-07T18:48:43.086Z"
   },
   {
    "duration": 14,
    "start_time": "2023-01-08T04:37:39.982Z"
   }
  ],
  "kernelspec": {
   "display_name": "Python 3 (ipykernel)",
   "language": "python",
   "name": "python3"
  },
  "language_info": {
   "codemirror_mode": {
    "name": "ipython",
    "version": 3
   },
   "file_extension": ".py",
   "mimetype": "text/x-python",
   "name": "python",
   "nbconvert_exporter": "python",
   "pygments_lexer": "ipython3",
   "version": "3.9.13"
  },
  "toc": {
   "base_numbering": 1,
   "nav_menu": {},
   "number_sections": true,
   "sideBar": true,
   "skip_h1_title": true,
   "title_cell": "Table of Contents",
   "title_sidebar": "Contents",
   "toc_cell": false,
   "toc_position": {},
   "toc_section_display": true,
   "toc_window_display": false
  }
 },
 "nbformat": 4,
 "nbformat_minor": 2
}
